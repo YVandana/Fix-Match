{
 "cells": [
  {
   "cell_type": "code",
   "execution_count": 1,
   "id": "0e064db5-ac38-4a72-8ce6-0197d06fb165",
   "metadata": {},
   "outputs": [],
   "source": [
    "from copy import deepcopy\n",
    "\n",
    "import torch\n",
    "\n",
    "\n",
    "class ModelEMA(object):\n",
    "    def __init__(self, args, model, decay):\n",
    "        self.ema = deepcopy(model)\n",
    "        self.ema.to(args.device)\n",
    "        self.ema.eval()\n",
    "        self.decay = decay\n",
    "        self.ema_has_module = hasattr(self.ema, 'module')\n",
    "        # Fix EMA. https://github.com/valencebond/FixMatch_pytorch thank you!\n",
    "        self.param_keys = [k for k, _ in self.ema.named_parameters()]\n",
    "        self.buffer_keys = [k for k, _ in self.ema.named_buffers()]\n",
    "        for p in self.ema.parameters():\n",
    "            p.requires_grad_(False)\n",
    "\n",
    "    def update(self, model):\n",
    "        needs_module = hasattr(model, 'module') and not self.ema_has_module\n",
    "        with torch.no_grad():\n",
    "            msd = model.state_dict()\n",
    "            esd = self.ema.state_dict()\n",
    "            for k in self.param_keys:\n",
    "                if needs_module:\n",
    "                    j = 'module.' + k\n",
    "                else:\n",
    "                    j = k\n",
    "                model_v = msd[j].detach()\n",
    "                ema_v = esd[k]\n",
    "                esd[k].copy_(ema_v * self.decay + (1. - self.decay) * model_v)\n",
    "\n",
    "            for k in self.buffer_keys:\n",
    "                if needs_module:\n",
    "                    j = 'module.' + k\n",
    "                else:\n",
    "                    j = k\n",
    "                esd[k].copy_(msd[j])"
   ]
  }
 ],
 "metadata": {
  "kernelspec": {
   "display_name": "anaconda-panel-2023.05-py310",
   "language": "python",
   "name": "conda-env-anaconda-panel-2023.05-py310-py"
  },
  "language_info": {
   "codemirror_mode": {
    "name": "ipython",
    "version": 3
   },
   "file_extension": ".py",
   "mimetype": "text/x-python",
   "name": "python",
   "nbconvert_exporter": "python",
   "pygments_lexer": "ipython3",
   "version": "3.11.4"
  }
 },
 "nbformat": 4,
 "nbformat_minor": 5
}
